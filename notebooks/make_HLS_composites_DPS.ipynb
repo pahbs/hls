{
 "cells": [
  {
   "cell_type": "markdown",
   "id": "cc8306ae-1089-4611-ae93-dda4eb6af5de",
   "metadata": {},
   "source": [
    "## Run some HLS composites for wherever the AOI indicates\n",
    "https://lpdaac.usgs.gov/resources/e-learning/getting-started-cloud-native-hls-data-python/"
   ]
  },
  {
   "cell_type": "code",
   "execution_count": 1,
   "id": "6a102857-04ed-4aab-925f-f1b960b920f4",
   "metadata": {
    "tags": []
   },
   "outputs": [
    {
     "name": "stderr",
     "output_type": "stream",
     "text": [
      "/tmp/ipykernel_5828/2370594346.py:8: DeprecationWarning: Shapely 2.0 is installed, but because PyGEOS is also installed, GeoPandas still uses PyGEOS by default. However, starting with version 0.14, the default will switch to Shapely. To force to use Shapely 2.0 now, you can either uninstall PyGEOS or set the environment variable USE_PYGEOS=0. You can do this before starting the Python process, or in your code before importing geopandas:\n",
      "\n",
      "import os\n",
      "os.environ['USE_PYGEOS'] = '0'\n",
      "import geopandas\n",
      "\n",
      "In the next release, GeoPandas will switch to using Shapely by default, even if PyGEOS is installed. If you only have PyGEOS installed to get speed-ups, this switch should be smooth. However, if you are using PyGEOS directly (calling PyGEOS functions on geometries from GeoPandas), this will then stop working and you are encouraged to migrate from PyGEOS to Shapely 2.0 (https://shapely.readthedocs.io/en/latest/migration_pygeos.html).\n",
      "  import geopandas as gpd\n"
     ]
    }
   ],
   "source": [
    "#!pip install -U -r /projects/code/icesat2_boreal/dps/requirements_main.txt\n",
    "#!pip install pystac_client\n",
    "from platform import python_version\n",
    "import sys\n",
    "import os\n",
    "\n",
    "from pyproj import CRS, Transformer\n",
    "import geopandas as gpd\n",
    "\n",
    "import pandas as pd\n",
    "\n",
    "#sys.path.append('/projects/icesat2_boreal/lib')\n",
    "sys.path.append('/projects/code/icesat2_boreal/lib')\n",
    "import ExtractUtils\n",
    "import maplib_folium\n",
    "import glob\n",
    "import datetime"
   ]
  },
  {
   "cell_type": "code",
   "execution_count": 2,
   "id": "8b50fde1-714f-424d-b82a-c0b56591fd12",
   "metadata": {
    "tags": []
   },
   "outputs": [
    {
     "data": {
      "text/plain": [
       "'3.10.8'"
      ]
     },
     "execution_count": 2,
     "metadata": {},
     "output_type": "execute_result"
    }
   ],
   "source": [
    "python_version()"
   ]
  },
  {
   "cell_type": "code",
   "execution_count": 3,
   "id": "ecde5b72-f165-41ee-94b5-7d2a84ecb1b4",
   "metadata": {
    "tags": []
   },
   "outputs": [
    {
     "name": "stdout",
     "output_type": "stream",
     "text": [
      "Requirement already satisfied: plotnine in /opt/conda/lib/python3.10/site-packages (0.12.2)\n",
      "Requirement already satisfied: matplotlib>=3.6.0 in /opt/conda/lib/python3.10/site-packages (from plotnine) (3.7.2)\n",
      "Requirement already satisfied: pandas>=1.5.0 in /opt/conda/lib/python3.10/site-packages (from plotnine) (2.0.3)\n",
      "Requirement already satisfied: mizani<0.10.0,>0.9.0 in /opt/conda/lib/python3.10/site-packages (from plotnine) (0.9.2)\n",
      "Requirement already satisfied: statsmodels>=0.14.0 in /opt/conda/lib/python3.10/site-packages (from plotnine) (0.14.0)\n",
      "Requirement already satisfied: numpy>=1.23.0 in /opt/conda/lib/python3.10/site-packages (from plotnine) (1.25.2)\n",
      "Requirement already satisfied: patsy>=0.5.1 in /opt/conda/lib/python3.10/site-packages (from plotnine) (0.5.3)\n",
      "Requirement already satisfied: scipy>=1.5.0 in /opt/conda/lib/python3.10/site-packages (from plotnine) (1.8.0)\n",
      "Requirement already satisfied: cycler>=0.10 in /opt/conda/lib/python3.10/site-packages (from matplotlib>=3.6.0->plotnine) (0.11.0)\n",
      "Requirement already satisfied: pillow>=6.2.0 in /opt/conda/lib/python3.10/site-packages (from matplotlib>=3.6.0->plotnine) (10.0.0)\n",
      "Requirement already satisfied: packaging>=20.0 in /opt/conda/lib/python3.10/site-packages (from matplotlib>=3.6.0->plotnine) (23.1)\n",
      "Requirement already satisfied: kiwisolver>=1.0.1 in /opt/conda/lib/python3.10/site-packages (from matplotlib>=3.6.0->plotnine) (1.4.4)\n",
      "Requirement already satisfied: contourpy>=1.0.1 in /opt/conda/lib/python3.10/site-packages (from matplotlib>=3.6.0->plotnine) (1.1.0)\n",
      "Requirement already satisfied: fonttools>=4.22.0 in /opt/conda/lib/python3.10/site-packages (from matplotlib>=3.6.0->plotnine) (4.42.1)\n",
      "Requirement already satisfied: python-dateutil>=2.7 in /opt/conda/lib/python3.10/site-packages (from matplotlib>=3.6.0->plotnine) (2.8.2)\n",
      "Requirement already satisfied: pyparsing<3.1,>=2.3.1 in /opt/conda/lib/python3.10/site-packages (from matplotlib>=3.6.0->plotnine) (3.0.9)\n",
      "Requirement already satisfied: pytz>=2020.1 in /opt/conda/lib/python3.10/site-packages (from pandas>=1.5.0->plotnine) (2023.3)\n",
      "Requirement already satisfied: tzdata>=2022.1 in /opt/conda/lib/python3.10/site-packages (from pandas>=1.5.0->plotnine) (2023.3)\n",
      "Requirement already satisfied: six in /opt/conda/lib/python3.10/site-packages (from patsy>=0.5.1->plotnine) (1.16.0)\n",
      "Collecting numpy>=1.23.0\n",
      "  Using cached numpy-1.24.4-cp310-cp310-manylinux_2_17_x86_64.manylinux2014_x86_64.whl (17.3 MB)\n",
      "Installing collected packages: numpy\n",
      "  Attempting uninstall: numpy\n",
      "    Found existing installation: numpy 1.25.2\n",
      "    Uninstalling numpy-1.25.2:\n",
      "      Successfully uninstalled numpy-1.25.2\n",
      "Successfully installed numpy-1.24.4\n",
      "\u001b[33mWARNING: Running pip as the 'root' user can result in broken permissions and conflicting behaviour with the system package manager. It is recommended to use a virtual environment instead: https://pip.pypa.io/warnings/venv\u001b[0m\u001b[33m\n",
      "\u001b[0m"
     ]
    }
   ],
   "source": [
    "!pip install -U plotnine"
   ]
  },
  {
   "cell_type": "code",
   "execution_count": 4,
   "id": "26c1f825",
   "metadata": {
    "tags": []
   },
   "outputs": [
    {
     "data": {
      "text/html": [
       "<div>\n",
       "<style scoped>\n",
       "    .dataframe tbody tr th:only-of-type {\n",
       "        vertical-align: middle;\n",
       "    }\n",
       "\n",
       "    .dataframe tbody tr th {\n",
       "        vertical-align: top;\n",
       "    }\n",
       "\n",
       "    .dataframe thead th {\n",
       "        text-align: right;\n",
       "    }\n",
       "</style>\n",
       "<table border=\"1\" class=\"dataframe\">\n",
       "  <thead>\n",
       "    <tr style=\"text-align: right;\">\n",
       "      <th></th>\n",
       "      <th>geometry</th>\n",
       "    </tr>\n",
       "  </thead>\n",
       "  <tbody>\n",
       "    <tr>\n",
       "      <th>0</th>\n",
       "      <td>POLYGON ((434629.936 181926.190, 934629.936 18...</td>\n",
       "    </tr>\n",
       "  </tbody>\n",
       "</table>\n",
       "</div>"
      ],
      "text/plain": [
       "                                            geometry\n",
       "0  POLYGON ((434629.936 181926.190, 934629.936 18..."
      ]
     },
     "execution_count": 4,
     "metadata": {},
     "output_type": "execute_result"
    }
   ],
   "source": [
    "INDEX_FN = '/projects/my-public-bucket/hls_book_chapter/aoi-book-chapter-usa-conus-square.gpkg'\n",
    "\n",
    "aoi_gdf = gpd.read_file(INDEX_FN)\n",
    "aoi_gdf.head()"
   ]
  },
  {
   "cell_type": "code",
   "execution_count": 5,
   "id": "15ea2cc0-2365-4ace-bb29-dccc0ca4bf87",
   "metadata": {
    "tags": []
   },
   "outputs": [
    {
     "name": "stdout",
     "output_type": "stream",
     "text": [
      "<class 'geopandas.geodataframe.GeoDataFrame'>\n",
      "RangeIndex: 36 entries, 0 to 35\n",
      "Data columns (total 2 columns):\n",
      " #   Column    Non-Null Count  Dtype   \n",
      "---  ------    --------------  -----   \n",
      " 0   tile_num  36 non-null     int64   \n",
      " 1   geometry  36 non-null     geometry\n",
      "dtypes: geometry(1), int64(1)\n",
      "memory usage: 704.0 bytes\n"
     ]
    },
    {
     "data": {
      "text/plain": [
       "'/projects/my-public-bucket/hls_book_chapter/aoi-book-chapter-usa-conus-square_with_id.gpkg'"
      ]
     },
     "execution_count": 5,
     "metadata": {},
     "output_type": "execute_result"
    }
   ],
   "source": [
    "import shapely\n",
    "def create_tiles_from_aoi(gdf, dims=3000):\n",
    "    in_crs = gdf.crs\n",
    "    try:\n",
    "        \n",
    "        minx, miny, maxx, maxy = gdf.total_bounds\n",
    "\n",
    "        #create a fishnet: https://spatial-dev.guru/2022/05/22/create-fishnet-grid-using-geopandas-and-shapely/\n",
    "        gdf_tile = gpd.GeoDataFrame(index=[0],geometry=[shapely.geometry.Polygon([[minx,miny],[minx,maxy],[maxx,maxy],[maxx, miny]])],crs=in_crs)\n",
    "    \n",
    "        # Get the extent of the shapefile\n",
    "        minX, minY, maxX, maxY = gdf_tile.total_bounds\n",
    "\n",
    "        # Create a fishnet\n",
    "        x, y = (minX, minY)\n",
    "        geom_array = []\n",
    "\n",
    "        # Polygon Size\n",
    "        square_size = dims*30\n",
    "        while y <= maxY:\n",
    "            while x <= maxX:\n",
    "                geom = shapely.geometry.Polygon([(x,y), (x, y+square_size), (x+square_size, y+square_size), (x+square_size, y), (x, y)])\n",
    "                geom_array.append(geom)\n",
    "                x += square_size\n",
    "            x = minX\n",
    "            y += square_size\n",
    "\n",
    "        # Convert fishnet to gdf\n",
    "        fishnet = gpd.GeoDataFrame(geom_array, columns=['geometry']).set_crs(in_crs)\n",
    "\n",
    "        fishnet.index.names = ['tile_num']\n",
    "        fishnet.reset_index(inplace=True)\n",
    "        fishnet['tile_num'] += 1\n",
    "\n",
    "    except Exception as e:\n",
    "        raise e\n",
    "    \n",
    "    return fishnet\n",
    "\n",
    "aoi_tiles_gdf = create_tiles_from_aoi(aoi_gdf, dims=3000)\n",
    "#.boundary.explore()\n",
    "aoi_tiles_gdf.info()\n",
    "NEW_INDEX_FN = INDEX_FN.replace('.gpkg','_with_id.gpkg')\n",
    "aoi_tiles_gdf.to_file(NEW_INDEX_FN, driver='GPKG')\n",
    "NEW_INDEX_FN"
   ]
  },
  {
   "cell_type": "code",
   "execution_count": 8,
   "id": "f127e5ff-b727-47aa-917e-4d5e2ec31f27",
   "metadata": {
    "tags": []
   },
   "outputs": [
    {
     "data": {
      "text/html": [
       "<div style=\"width:100%;\"><div style=\"position:relative;width:100%;height:0;padding-bottom:60%;\"><span style=\"color:#565656\">Make this Notebook Trusted to load map: File -> Trust Notebook</span><iframe srcdoc=\"&lt;!DOCTYPE html&gt;\n",
       "&lt;html&gt;\n",
       "&lt;head&gt;\n",
       "    \n",
       "    &lt;meta http-equiv=&quot;content-type&quot; content=&quot;text/html; charset=UTF-8&quot; /&gt;\n",
       "    \n",
       "        &lt;script&gt;\n",
       "            L_NO_TOUCH = false;\n",
       "            L_DISABLE_3D = false;\n",
       "        &lt;/script&gt;\n",
       "    \n",
       "    &lt;style&gt;html, body {width: 100%;height: 100%;margin: 0;padding: 0;}&lt;/style&gt;\n",
       "    &lt;style&gt;#map {position:absolute;top:0;bottom:0;right:0;left:0;}&lt;/style&gt;\n",
       "    &lt;script src=&quot;https://cdn.jsdelivr.net/npm/leaflet@1.9.3/dist/leaflet.js&quot;&gt;&lt;/script&gt;\n",
       "    &lt;script src=&quot;https://code.jquery.com/jquery-1.12.4.min.js&quot;&gt;&lt;/script&gt;\n",
       "    &lt;script src=&quot;https://cdn.jsdelivr.net/npm/bootstrap@5.2.2/dist/js/bootstrap.bundle.min.js&quot;&gt;&lt;/script&gt;\n",
       "    &lt;script src=&quot;https://cdnjs.cloudflare.com/ajax/libs/Leaflet.awesome-markers/2.0.2/leaflet.awesome-markers.js&quot;&gt;&lt;/script&gt;\n",
       "    &lt;link rel=&quot;stylesheet&quot; href=&quot;https://cdn.jsdelivr.net/npm/leaflet@1.9.3/dist/leaflet.css&quot;/&gt;\n",
       "    &lt;link rel=&quot;stylesheet&quot; href=&quot;https://cdn.jsdelivr.net/npm/bootstrap@5.2.2/dist/css/bootstrap.min.css&quot;/&gt;\n",
       "    &lt;link rel=&quot;stylesheet&quot; href=&quot;https://netdna.bootstrapcdn.com/bootstrap/3.0.0/css/bootstrap.min.css&quot;/&gt;\n",
       "    &lt;link rel=&quot;stylesheet&quot; href=&quot;https://cdn.jsdelivr.net/npm/@fortawesome/fontawesome-free@6.2.0/css/all.min.css&quot;/&gt;\n",
       "    &lt;link rel=&quot;stylesheet&quot; href=&quot;https://cdnjs.cloudflare.com/ajax/libs/Leaflet.awesome-markers/2.0.2/leaflet.awesome-markers.css&quot;/&gt;\n",
       "    &lt;link rel=&quot;stylesheet&quot; href=&quot;https://cdn.jsdelivr.net/gh/python-visualization/folium/folium/templates/leaflet.awesome.rotate.min.css&quot;/&gt;\n",
       "    \n",
       "            &lt;meta name=&quot;viewport&quot; content=&quot;width=device-width,\n",
       "                initial-scale=1.0, maximum-scale=1.0, user-scalable=no&quot; /&gt;\n",
       "            &lt;style&gt;\n",
       "                #map_63a4fbc066dbbca2098db1709210aa50 {\n",
       "                    position: relative;\n",
       "                    width: 100.0%;\n",
       "                    height: 100.0%;\n",
       "                    left: 0.0%;\n",
       "                    top: 0.0%;\n",
       "                }\n",
       "                .leaflet-container { font-size: 1rem; }\n",
       "            &lt;/style&gt;\n",
       "        \n",
       "    \n",
       "                    &lt;style&gt;\n",
       "                        .foliumtooltip {\n",
       "                            \n",
       "                        }\n",
       "                       .foliumtooltip table{\n",
       "                            margin: auto;\n",
       "                        }\n",
       "                        .foliumtooltip tr{\n",
       "                            text-align: left;\n",
       "                        }\n",
       "                        .foliumtooltip th{\n",
       "                            padding: 2px; padding-right: 8px;\n",
       "                        }\n",
       "                    &lt;/style&gt;\n",
       "            \n",
       "&lt;/head&gt;\n",
       "&lt;body&gt;\n",
       "    \n",
       "    \n",
       "            &lt;div class=&quot;folium-map&quot; id=&quot;map_63a4fbc066dbbca2098db1709210aa50&quot; &gt;&lt;/div&gt;\n",
       "        \n",
       "&lt;/body&gt;\n",
       "&lt;script&gt;\n",
       "    \n",
       "    \n",
       "            var map_63a4fbc066dbbca2098db1709210aa50 = L.map(\n",
       "                &quot;map_63a4fbc066dbbca2098db1709210aa50&quot;,\n",
       "                {\n",
       "                    center: [36.772767062462506, -87.92187299421096],\n",
       "                    crs: L.CRS.EPSG3857,\n",
       "                    zoom: 10,\n",
       "                    zoomControl: true,\n",
       "                    preferCanvas: false,\n",
       "                }\n",
       "            );\n",
       "            L.control.scale().addTo(map_63a4fbc066dbbca2098db1709210aa50);\n",
       "\n",
       "            \n",
       "\n",
       "        \n",
       "    \n",
       "            var tile_layer_04c634a27c2d9fd385c168c53e441008 = L.tileLayer(\n",
       "                &quot;https://{s}.tile.openstreetmap.org/{z}/{x}/{y}.png&quot;,\n",
       "                {&quot;attribution&quot;: &quot;Data by \\u0026copy; \\u003ca target=\\&quot;_blank\\&quot; href=\\&quot;http://openstreetmap.org\\&quot;\\u003eOpenStreetMap\\u003c/a\\u003e, under \\u003ca target=\\&quot;_blank\\&quot; href=\\&quot;http://www.openstreetmap.org/copyright\\&quot;\\u003eODbL\\u003c/a\\u003e.&quot;, &quot;detectRetina&quot;: false, &quot;maxNativeZoom&quot;: 18, &quot;maxZoom&quot;: 18, &quot;minZoom&quot;: 0, &quot;noWrap&quot;: false, &quot;opacity&quot;: 1, &quot;subdomains&quot;: &quot;abc&quot;, &quot;tms&quot;: false}\n",
       "            ).addTo(map_63a4fbc066dbbca2098db1709210aa50);\n",
       "        \n",
       "    \n",
       "            map_63a4fbc066dbbca2098db1709210aa50.fitBounds(\n",
       "                [[34.169454032026216, -91.22356306536845], [39.3760800928988, -84.62018292305345]],\n",
       "                {}\n",
       "            );\n",
       "        \n",
       "    \n",
       "        function geo_json_45663d2d4e10695c9f7e3e9dea51017a_styler(feature) {\n",
       "            switch(feature.id) {\n",
       "                default:\n",
       "                    return {&quot;fillOpacity&quot;: 0.5, &quot;weight&quot;: 2};\n",
       "            }\n",
       "        }\n",
       "        function geo_json_45663d2d4e10695c9f7e3e9dea51017a_highlighter(feature) {\n",
       "            switch(feature.id) {\n",
       "                default:\n",
       "                    return {&quot;fillOpacity&quot;: 0.75};\n",
       "            }\n",
       "        }\n",
       "        function geo_json_45663d2d4e10695c9f7e3e9dea51017a_pointToLayer(feature, latlng) {\n",
       "            var opts = {&quot;bubblingMouseEvents&quot;: true, &quot;color&quot;: &quot;#3388ff&quot;, &quot;dashArray&quot;: null, &quot;dashOffset&quot;: null, &quot;fill&quot;: true, &quot;fillColor&quot;: &quot;#3388ff&quot;, &quot;fillOpacity&quot;: 0.2, &quot;fillRule&quot;: &quot;evenodd&quot;, &quot;lineCap&quot;: &quot;round&quot;, &quot;lineJoin&quot;: &quot;round&quot;, &quot;opacity&quot;: 1.0, &quot;radius&quot;: 2, &quot;stroke&quot;: true, &quot;weight&quot;: 3};\n",
       "            \n",
       "            let style = geo_json_45663d2d4e10695c9f7e3e9dea51017a_styler(feature)\n",
       "            Object.assign(opts, style)\n",
       "            \n",
       "            return new L.CircleMarker(latlng, opts)\n",
       "        }\n",
       "\n",
       "        function geo_json_45663d2d4e10695c9f7e3e9dea51017a_onEachFeature(feature, layer) {\n",
       "            layer.on({\n",
       "                mouseout: function(e) {\n",
       "                    if(typeof e.target.setStyle === &quot;function&quot;){\n",
       "                        geo_json_45663d2d4e10695c9f7e3e9dea51017a.resetStyle(e.target);\n",
       "                    }\n",
       "                },\n",
       "                mouseover: function(e) {\n",
       "                    if(typeof e.target.setStyle === &quot;function&quot;){\n",
       "                        const highlightStyle = geo_json_45663d2d4e10695c9f7e3e9dea51017a_highlighter(e.target.feature)\n",
       "                        e.target.setStyle(highlightStyle);\n",
       "                    }\n",
       "                },\n",
       "            });\n",
       "        };\n",
       "        var geo_json_45663d2d4e10695c9f7e3e9dea51017a = L.geoJson(null, {\n",
       "                onEachFeature: geo_json_45663d2d4e10695c9f7e3e9dea51017a_onEachFeature,\n",
       "            \n",
       "                style: geo_json_45663d2d4e10695c9f7e3e9dea51017a_styler,\n",
       "                pointToLayer: geo_json_45663d2d4e10695c9f7e3e9dea51017a_pointToLayer\n",
       "        });\n",
       "\n",
       "        function geo_json_45663d2d4e10695c9f7e3e9dea51017a_add (data) {\n",
       "            geo_json_45663d2d4e10695c9f7e3e9dea51017a\n",
       "                .addData(data)\n",
       "                .addTo(map_63a4fbc066dbbca2098db1709210aa50);\n",
       "        }\n",
       "            geo_json_45663d2d4e10695c9f7e3e9dea51017a_add({&quot;bbox&quot;: [-91.22356306536845, 34.169454032026216, -84.62018292305345, 39.3760800928988], &quot;features&quot;: [{&quot;bbox&quot;: [-91.22356306536845, 34.51722987732641, -90.1761957875491, 35.36523791100491], &quot;geometry&quot;: {&quot;coordinates&quot;: [[[-91.22356306536845, 34.56183547034592], [-91.17337206875716, 35.36523791100491], [-90.1761957875491, 35.32020123799351], [-90.23670942988757, 34.51722987732641], [-91.22356306536845, 34.56183547034592]]], &quot;type&quot;: &quot;Polygon&quot;}, &quot;id&quot;: &quot;0&quot;, &quot;properties&quot;: {&quot;tile_num&quot;: 1}, &quot;type&quot;: &quot;Feature&quot;}, {&quot;bbox&quot;: [-90.23670942988757, 34.464284720600936, -89.18030183487413, 35.32020123799351], &quot;geometry&quot;: {&quot;coordinates&quot;: [[[-90.23670942988757, 34.51722987732641], [-90.1761957875491, 35.32020123799351], [-89.18030183487413, 35.26674565375923], [-89.25109866317153, 34.464284720600936], [-90.23670942988757, 34.51722987732641]]], &quot;type&quot;: &quot;Polygon&quot;}, &quot;id&quot;: &quot;1&quot;, &quot;properties&quot;: {&quot;tile_num&quot;: 2}, &quot;type&quot;: &quot;Feature&quot;}, {&quot;bbox&quot;: [-89.25109866317153, 34.40301553106847, -88.1859060047647, 35.26674565375923], &quot;geometry&quot;: {&quot;coordinates&quot;: [[[-89.25109866317153, 34.464284720600936], [-89.18030183487413, 35.26674565375923], [-88.1859060047647, 35.204887474032], [-88.26694000249041, 34.40301553106847], [-89.25109866317153, 34.464284720600936]]], &quot;type&quot;: &quot;Polygon&quot;}, &quot;id&quot;: &quot;2&quot;, &quot;properties&quot;: {&quot;tile_num&quot;: 3}, &quot;type&quot;: &quot;Feature&quot;}, {&quot;bbox&quot;: [-88.26694000249041, 34.33344018855506, -87.19322213085667, 35.204887474032], &quot;geometry&quot;: {&quot;coordinates&quot;: [[[-88.26694000249041, 34.40301553106847], [-88.1859060047647, 35.204887474032], [-87.19322213085667, 35.13464548050352], [-87.28444082370017, 34.33344018855506], [-88.26694000249041, 34.40301553106847]]], &quot;type&quot;: &quot;Polygon&quot;}, &quot;id&quot;: &quot;3&quot;, &quot;properties&quot;: {&quot;tile_num&quot;: 4}, &quot;type&quot;: &quot;Feature&quot;}, {&quot;bbox&quot;: [-87.28444082370017, 34.25557887665437, -86.20246181743305, 35.13464548050352], &quot;geometry&quot;: {&quot;coordinates&quot;: [[[-87.28444082370017, 34.33344018855506], [-87.19322213085667, 35.13464548050352], [-86.20246181743305, 35.056040872699874], [-86.30380638551287, 34.25557887665437], [-87.28444082370017, 34.33344018855506]]], &quot;type&quot;: &quot;Polygon&quot;}, &quot;id&quot;: &quot;4&quot;, &quot;properties&quot;: {&quot;tile_num&quot;: 5}, &quot;type&quot;: &quot;Feature&quot;}, {&quot;bbox&quot;: [-86.30380638551287, 34.169454032026216, -85.21383417765547, 35.056040872699874], &quot;geometry&quot;: {&quot;coordinates&quot;: [[[-86.30380638551287, 34.25557887665437], [-86.20246181743305, 35.056040872699874], [-85.21383417765547, 34.969097213968205], [-85.32523958045552, 34.169454032026216], [-86.30380638551287, 34.25557887665437]]], &quot;type&quot;: &quot;Polygon&quot;}, &quot;id&quot;: &quot;5&quot;, &quot;properties&quot;: {&quot;tile_num&quot;: 6}, &quot;type&quot;: &quot;Feature&quot;}, {&quot;bbox&quot;: [-91.17337206875716, 35.32020123799351, -90.11439953567863, 36.168033916802095], &quot;geometry&quot;: {&quot;coordinates&quot;: [[[-91.17337206875716, 35.36523791100491], [-91.12211598855086, 36.168033916802095], [-90.11439953567863, 36.122548995472336], [-90.1761957875491, 35.32020123799351], [-91.17337206875716, 35.36523791100491]]], &quot;type&quot;: &quot;Polygon&quot;}, &quot;id&quot;: &quot;6&quot;, &quot;properties&quot;: {&quot;tile_num&quot;: 7}, &quot;type&quot;: &quot;Feature&quot;}, {&quot;bbox&quot;: [-90.1761957875491, 35.26674565375923, -89.1080065571014, 36.122548995472336], &quot;geometry&quot;: {&quot;coordinates&quot;: [[[-90.1761957875491, 35.32020123799351], [-90.11439953567863, 36.122548995472336], [-89.1080065571014, 36.0685626806935], [-89.18030183487413, 35.26674565375923], [-90.1761957875491, 35.32020123799351]]], &quot;type&quot;: &quot;Polygon&quot;}, &quot;id&quot;: &quot;7&quot;, &quot;properties&quot;: {&quot;tile_num&quot;: 8}, &quot;type&quot;: &quot;Feature&quot;}, {&quot;bbox&quot;: [-89.18030183487413, 35.204887474032, -88.10315967907896, 36.0685626806935], &quot;geometry&quot;: {&quot;coordinates&quot;: [[[-89.18030183487413, 35.26674565375923], [-89.1080065571014, 36.0685626806935], [-88.10315967907896, 36.00609211691865], [-88.1859060047647, 35.204887474032], [-89.18030183487413, 35.26674565375923]]], &quot;type&quot;: &quot;Polygon&quot;}, &quot;id&quot;: &quot;8&quot;, &quot;properties&quot;: {&quot;tile_num&quot;: 9}, &quot;type&quot;: &quot;Feature&quot;}, {&quot;bbox&quot;: [-88.1859060047647, 35.13464548050352, -87.10007946212029, 36.00609211691865], &quot;geometry&quot;: {&quot;coordinates&quot;: [[[-88.1859060047647, 35.204887474032], [-88.10315967907896, 36.00609211691865], [-87.10007946212029, 35.9351570379125], [-87.19322213085667, 35.13464548050352], [-88.1859060047647, 35.204887474032]]], &quot;type&quot;: &quot;Polygon&quot;}, &quot;id&quot;: &quot;9&quot;, &quot;properties&quot;: {&quot;tile_num&quot;: 10}, &quot;type&quot;: &quot;Feature&quot;}, {&quot;bbox&quot;: [-87.19322213085667, 35.056040872699874, -86.0989841179781, 35.9351570379125], &quot;geometry&quot;: {&quot;coordinates&quot;: [[[-87.19322213085667, 35.13464548050352], [-87.10007946212029, 35.9351570379125], [-86.0989841179781, 35.85577971539469], [-86.20246181743305, 35.056040872699874], [-87.19322213085667, 35.13464548050352]]], &quot;type&quot;: &quot;Polygon&quot;}, &quot;id&quot;: &quot;10&quot;, &quot;properties&quot;: {&quot;tile_num&quot;: 11}, &quot;type&quot;: &quot;Feature&quot;}, {&quot;bbox&quot;: [-86.20246181743305, 34.969097213968205, -85.1000892343727, 35.85577971539469], &quot;geometry&quot;: {&quot;coordinates&quot;: [[[-86.20246181743305, 35.056040872699874], [-86.0989841179781, 35.85577971539469], [-85.1000892343727, 35.76798490142515], [-85.21383417765547, 34.969097213968205], [-86.20246181743305, 35.056040872699874]]], &quot;type&quot;: &quot;Polygon&quot;}, &quot;id&quot;: &quot;11&quot;, &quot;properties&quot;: {&quot;tile_num&quot;: 12}, &quot;type&quot;: &quot;Feature&quot;}, {&quot;bbox&quot;: [-91.12211598855086, 36.122548995472336, -90.05127951336543, 36.97036672519729], &quot;geometry&quot;: {&quot;coordinates&quot;: [[[-91.12211598855086, 36.168033916802095], [-91.0697605893824, 36.97036672519729], [-90.05127951336543, 36.92441562285993], [-90.11439953567863, 36.122548995472336], [-91.12211598855086, 36.168033916802095]]], &quot;type&quot;: &quot;Polygon&quot;}, &quot;id&quot;: &quot;12&quot;, &quot;properties&quot;: {&quot;tile_num&quot;: 13}, &quot;type&quot;: &quot;Feature&quot;}, {&quot;bbox&quot;: [-90.11439953567863, 36.0685626806935, -89.03416483429167, 36.92441562285993], &quot;geometry&quot;: {&quot;coordinates&quot;: [[[-90.11439953567863, 36.122548995472336], [-90.05127951336543, 36.92441562285993], [-89.03416483429167, 36.86987737371258], [-89.1080065571014, 36.0685626806935], [-90.11439953567863, 36.122548995472336]]], &quot;type&quot;: &quot;Polygon&quot;}, &quot;id&quot;: &quot;13&quot;, &quot;properties&quot;: {&quot;tile_num&quot;: 14}, &quot;type&quot;: &quot;Feature&quot;}, {&quot;bbox&quot;: [-89.1080065571014, 36.00609211691865, -88.01864630065512, 36.86987737371258], &quot;geometry&quot;: {&quot;coordinates&quot;: [[[-89.1080065571014, 36.0685626806935], [-89.03416483429167, 36.86987737371258], [-88.01864630065512, 36.806769998342226], [-88.10315967907896, 36.00609211691865], [-89.1080065571014, 36.0685626806935]]], &quot;type&quot;: &quot;Polygon&quot;}, &quot;id&quot;: &quot;14&quot;, &quot;properties&quot;: {&quot;tile_num&quot;: 15}, &quot;type&quot;: &quot;Feature&quot;}, {&quot;bbox&quot;: [-88.10315967907896, 35.9351570379125, -87.00495148299052, 36.806769998342226], &quot;geometry&quot;: {&quot;coordinates&quot;: [[[-88.10315967907896, 36.00609211691865], [-88.01864630065512, 36.806769998342226], [-87.00495148299052, 36.735114236802666], [-87.10007946212029, 35.9351570379125], [-88.10315967907896, 36.00609211691865]]], &quot;type&quot;: &quot;Polygon&quot;}, &quot;id&quot;: &quot;15&quot;, &quot;properties&quot;: {&quot;tile_num&quot;: 16}, &quot;type&quot;: &quot;Feature&quot;}, {&quot;bbox&quot;: [-87.10007946212029, 35.85577971539469, -85.99330547593571, 36.735114236802666], &quot;geometry&quot;: {&quot;coordinates&quot;: [[[-87.10007946212029, 35.9351570379125], [-87.00495148299052, 36.735114236802666], [-85.99330547593571, 36.65493349373937], [-86.0989841179781, 35.85577971539469], [-87.10007946212029, 35.9351570379125]]], &quot;type&quot;: &quot;Polygon&quot;}, &quot;id&quot;: &quot;16&quot;, &quot;properties&quot;: {&quot;tile_num&quot;: 17}, &quot;type&quot;: &quot;Feature&quot;}, {&quot;bbox&quot;: [-86.0989841179781, 35.76798490142515, -84.98393060861235, 36.65493349373937], &quot;geometry&quot;: {&quot;coordinates&quot;: [[[-86.0989841179781, 35.85577971539469], [-85.99330547593571, 36.65493349373937], [-84.98393060861235, 36.56625377685361], [-85.1000892343727, 35.76798490142515], [-86.0989841179781, 35.85577971539469]]], &quot;type&quot;: &quot;Polygon&quot;}, &quot;id&quot;: &quot;17&quot;, &quot;properties&quot;: {&quot;tile_num&quot;: 18}, &quot;type&quot;: &quot;Feature&quot;}, {&quot;bbox&quot;: [-91.0697605893824, 36.92441562285993, -89.98679278182327, 37.77238349962546], &quot;geometry&quot;: {&quot;coordinates&quot;: [[[-91.0697605893824, 36.97036672519729], [-91.01627015410598, 37.77238349962546], [-89.98679278182327, 37.72594745997053], [-90.05127951336543, 36.92441562285993], [-91.0697605893824, 36.97036672519729]]], &quot;type&quot;: &quot;Polygon&quot;}, &quot;id&quot;: &quot;18&quot;, &quot;properties&quot;: {&quot;tile_num&quot;: 19}, &quot;type&quot;: &quot;Feature&quot;}, {&quot;bbox&quot;: [-90.05127951336543, 36.86987737371258, -88.95872660284647, 37.72594745997053], &quot;geometry&quot;: {&quot;coordinates&quot;: [[[-90.05127951336543, 36.92441562285993], [-89.98679278182327, 37.72594745997053], [-88.95872660284647, 37.670835102154456], [-89.03416483429167, 36.86987737371258], [-90.05127951336543, 36.92441562285993]]], &quot;type&quot;: &quot;Polygon&quot;}, &quot;id&quot;: &quot;19&quot;, &quot;properties&quot;: {&quot;tile_num&quot;: 20}, &quot;type&quot;: &quot;Feature&quot;}, {&quot;bbox&quot;: [-89.03416483429167, 36.806769998342226, -87.93230879337857, 37.670835102154456], &quot;geometry&quot;: {&quot;coordinates&quot;: [[[-89.03416483429167, 36.86987737371258], [-88.95872660284647, 37.670835102154456], [-87.93230879337857, 37.607065374171356], [-88.01864630065512, 36.806769998342226], [-89.03416483429167, 36.86987737371258]]], &quot;type&quot;: &quot;Polygon&quot;}, &quot;id&quot;: &quot;20&quot;, &quot;properties&quot;: {&quot;tile_num&quot;: 21}, &quot;type&quot;: &quot;Feature&quot;}, {&quot;bbox&quot;: [-88.01864630065512, 36.735114236802666, -86.90777423207543, 37.607065374171356], &quot;geometry&quot;: {&quot;coordinates&quot;: [[[-88.01864630065512, 36.806769998342226], [-87.93230879337857, 37.607065374171356], [-86.90777423207543, 37.534660080978334], [-87.00495148299052, 36.735114236802666], [-88.01864630065512, 36.806769998342226]]], &quot;type&quot;: &quot;Polygon&quot;}, &quot;id&quot;: &quot;21&quot;, &quot;properties&quot;: {&quot;tile_num&quot;: 22}, &quot;type&quot;: &quot;Feature&quot;}, {&quot;bbox&quot;: [-87.00495148299052, 36.65493349373937, -85.88535518622865, 37.534660080978334], &quot;geometry&quot;: {&quot;coordinates&quot;: [[[-87.00495148299052, 36.735114236802666], [-86.90777423207543, 37.534660080978334], [-85.88535518622865, 37.45364382578221], [-85.99330547593571, 36.65493349373937], [-87.00495148299052, 36.735114236802666]]], &quot;type&quot;: &quot;Polygon&quot;}, &quot;id&quot;: &quot;22&quot;, &quot;properties&quot;: {&quot;tile_num&quot;: 23}, &quot;type&quot;: &quot;Feature&quot;}, {&quot;bbox&quot;: [-85.99330547593571, 36.56625377685361, -84.8652810069073, 37.45364382578221], &quot;geometry&quot;: {&quot;coordinates&quot;: [[[-85.99330547593571, 36.65493349373937], [-85.88535518622865, 37.45364382578221], [-84.8652810069073, 37.36404394422707], [-84.98393060861235, 36.56625377685361], [-85.99330547593571, 36.65493349373937]]], &quot;type&quot;: &quot;Polygon&quot;}, &quot;id&quot;: &quot;23&quot;, &quot;properties&quot;: {&quot;tile_num&quot;: 24}, &quot;type&quot;: &quot;Feature&quot;}, {&quot;bbox&quot;: [-91.01627015410598, 37.72594745997053, -89.920894527486, 38.57423579989215], &quot;geometry&quot;: {&quot;coordinates&quot;: [[[-91.01627015410598, 37.77238349962546], [-90.96160740282863, 38.57423579989215], [-89.920894527486, 38.527295178278244], [-89.98679278182327, 37.72594745997053], [-91.01627015410598, 37.77238349962546]]], &quot;type&quot;: &quot;Polygon&quot;}, &quot;id&quot;: &quot;24&quot;, &quot;properties&quot;: {&quot;tile_num&quot;: 25}, &quot;type&quot;: &quot;Feature&quot;}, {&quot;bbox&quot;: [-89.98679278182327, 37.670835102154456, -88.88163961874699, 38.527295178278244], &quot;geometry&quot;: {&quot;coordinates&quot;: [[[-89.98679278182327, 37.72594745997053], [-89.920894527486, 38.527295178278244], [-88.88163961874699, 38.47158549093773], [-88.95872660284647, 37.670835102154456], [-89.98679278182327, 37.72594745997053]]], &quot;type&quot;: &quot;Polygon&quot;}, &quot;id&quot;: &quot;25&quot;, &quot;properties&quot;: {&quot;tile_num&quot;: 26}, &quot;type&quot;: &quot;Feature&quot;}, {&quot;bbox&quot;: [-88.95872660284647, 37.607065374171356, -87.84408760246075, 38.47158549093773], &quot;geometry&quot;: {&quot;coordinates&quot;: [[[-88.95872660284647, 37.670835102154456], [-88.88163961874699, 38.47158549093773], [-87.84408760246075, 38.40712666879325], [-87.93230879337857, 37.607065374171356], [-88.95872660284647, 37.670835102154456]]], &quot;type&quot;: &quot;Polygon&quot;}, &quot;id&quot;: &quot;26&quot;, &quot;properties&quot;: {&quot;tile_num&quot;: 27}, &quot;type&quot;: &quot;Feature&quot;}, {&quot;bbox&quot;: [-87.93230879337857, 37.534660080978334, -86.80848097939102, 38.40712666879325], &quot;geometry&quot;: {&quot;coordinates&quot;: [[[-87.93230879337857, 37.607065374171356], [-87.84408760246075, 38.40712666879325], [-86.80848097939102, 38.33394164515431], [-86.90777423207543, 37.534660080978334], [-87.93230879337857, 37.607065374171356]]], &quot;type&quot;: &quot;Polygon&quot;}, &quot;id&quot;: &quot;27&quot;, &quot;properties&quot;: {&quot;tile_num&quot;: 28}, &quot;type&quot;: &quot;Feature&quot;}, {&quot;bbox&quot;: [-86.90777423207543, 37.45364382578221, -85.77505949450169, 38.33394164515431], &quot;geometry&quot;: {&quot;coordinates&quot;: [[[-86.90777423207543, 37.534660080978334], [-86.80848097939102, 38.33394164515431], [-85.77505949450169, 38.252056292811204], [-85.88535518622865, 37.45364382578221], [-86.90777423207543, 37.534660080978334]]], &quot;type&quot;: &quot;Polygon&quot;}, &quot;id&quot;: &quot;28&quot;, &quot;properties&quot;: {&quot;tile_num&quot;: 29}, &quot;type&quot;: &quot;Feature&quot;}, {&quot;bbox&quot;: [-85.88535518622865, 37.36404394422707, -84.74405981589845, 38.252056292811204], &quot;geometry&quot;: {&quot;coordinates&quot;: [[[-85.88535518622865, 37.45364382578221], [-85.77505949450169, 38.252056292811204], [-84.74405981589845, 38.16149935355359], [-84.8652810069073, 37.36404394422707], [-85.88535518622865, 37.45364382578221]]], &quot;type&quot;: &quot;Polygon&quot;}, &quot;id&quot;: &quot;29&quot;, &quot;properties&quot;: {&quot;tile_num&quot;: 30}, &quot;type&quot;: &quot;Feature&quot;}, {&quot;bbox&quot;: [-90.96160740282863, 38.527295178278244, -89.85353795870435, 39.3760800928988], &quot;geometry&quot;: {&quot;coordinates&quot;: [[[-90.96160740282863, 38.57423579989215], [-90.90573340657897, 39.3760800928988], [-89.85353795870435, 39.328614285525596], [-89.920894527486, 38.527295178278244], [-90.96160740282863, 38.57423579989215]]], &quot;type&quot;: &quot;Polygon&quot;}, &quot;id&quot;: &quot;30&quot;, &quot;properties&quot;: {&quot;tile_num&quot;: 31}, &quot;type&quot;: &quot;Feature&quot;}, {&quot;bbox&quot;: [-89.920894527486, 38.47158549093773, -88.80284933777567, 39.328614285525596], &quot;geometry&quot;: {&quot;coordinates&quot;: [[[-89.920894527486, 38.527295178278244], [-89.85353795870435, 39.328614285525596], [-88.80284933777567, 39.27228291800268], [-88.88163961874699, 38.47158549093773], [-89.920894527486, 38.527295178278244]]], &quot;type&quot;: &quot;Polygon&quot;}, &quot;id&quot;: &quot;31&quot;, &quot;properties&quot;: {&quot;tile_num&quot;: 32}, &quot;type&quot;: &quot;Feature&quot;}, {&quot;bbox&quot;: [-88.88163961874699, 38.40712666879325, -87.75392055875786, 39.27228291800268], &quot;geometry&quot;: {&quot;coordinates&quot;: [[[-88.88163961874699, 38.47158549093773], [-88.80284933777567, 39.27228291800268], [-87.75392055875786, 39.207106964384366], [-87.84408760246075, 38.40712666879325], [-88.88163961874699, 38.47158549093773]]], &quot;type&quot;: &quot;Polygon&quot;}, &quot;id&quot;: &quot;32&quot;, &quot;properties&quot;: {&quot;tile_num&quot;: 33}, &quot;type&quot;: &quot;Feature&quot;}, {&quot;bbox&quot;: [-87.84408760246075, 38.33394164515431, -86.70700207541935, 39.207106964384366], &quot;geometry&quot;: {&quot;coordinates&quot;: [[[-87.84408760246075, 38.40712666879325], [-87.75392055875786, 39.207106964384366], [-86.70700207541935, 39.13311055510789], [-86.80848097939102, 38.33394164515431], [-87.84408760246075, 38.40712666879325]]], &quot;type&quot;: &quot;Polygon&quot;}, &quot;id&quot;: &quot;33&quot;, &quot;properties&quot;: {&quot;tile_num&quot;: 34}, &quot;type&quot;: &quot;Feature&quot;}, {&quot;bbox&quot;: [-86.80848097939102, 38.252056292811204, -85.66234143162642, 39.13311055510789], &quot;geometry&quot;: {&quot;coordinates&quot;: [[[-86.80848097939102, 38.33394164515431], [-86.70700207541935, 39.13311055510789], [-85.66234143162642, 39.05032090949946], [-85.77505949450169, 38.252056292811204], [-86.80848097939102, 38.33394164515431]]], &quot;type&quot;: &quot;Polygon&quot;}, &quot;id&quot;: &quot;34&quot;, &quot;properties&quot;: {&quot;tile_num&quot;: 35}, &quot;type&quot;: &quot;Feature&quot;}, {&quot;bbox&quot;: [-85.77505949450169, 38.16149935355359, -84.62018292305345, 39.05032090949946], &quot;geometry&quot;: {&quot;coordinates&quot;: [[[-85.77505949450169, 38.252056292811204], [-85.66234143162642, 39.05032090949946], [-84.62018292305345, 38.958768260187874], [-84.74405981589845, 38.16149935355359], [-85.77505949450169, 38.252056292811204]]], &quot;type&quot;: &quot;Polygon&quot;}, &quot;id&quot;: &quot;35&quot;, &quot;properties&quot;: {&quot;tile_num&quot;: 36}, &quot;type&quot;: &quot;Feature&quot;}], &quot;type&quot;: &quot;FeatureCollection&quot;});\n",
       "\n",
       "        \n",
       "    \n",
       "    geo_json_45663d2d4e10695c9f7e3e9dea51017a.bindTooltip(\n",
       "    function(layer){\n",
       "    let div = L.DomUtil.create(&#x27;div&#x27;);\n",
       "    \n",
       "    let handleObject = feature=&gt;typeof(feature)==&#x27;object&#x27; ? JSON.stringify(feature) : feature;\n",
       "    let fields = [&quot;tile_num&quot;];\n",
       "    let aliases = [&quot;tile_num&quot;];\n",
       "    let table = &#x27;&lt;table&gt;&#x27; +\n",
       "        String(\n",
       "        fields.map(\n",
       "        (v,i)=&gt;\n",
       "        `&lt;tr&gt;\n",
       "            &lt;th&gt;${aliases[i]}&lt;/th&gt;\n",
       "            \n",
       "            &lt;td&gt;${handleObject(layer.feature.properties[v])}&lt;/td&gt;\n",
       "        &lt;/tr&gt;`).join(&#x27;&#x27;))\n",
       "    +&#x27;&lt;/table&gt;&#x27;;\n",
       "    div.innerHTML=table;\n",
       "    \n",
       "    return div\n",
       "    }\n",
       "    ,{&quot;className&quot;: &quot;foliumtooltip&quot;, &quot;sticky&quot;: true});\n",
       "                     \n",
       "&lt;/script&gt;\n",
       "&lt;/html&gt;\" style=\"position:absolute;width:100%;height:100%;left:0;top:0;border:none !important;\" allowfullscreen webkitallowfullscreen mozallowfullscreen></iframe></div></div>"
      ],
      "text/plain": [
       "<folium.folium.Map at 0x7f1681b71270>"
      ]
     },
     "execution_count": 8,
     "metadata": {},
     "output_type": "execute_result"
    }
   ],
   "source": [
    "aoi_tiles_gdf.explore()"
   ]
  },
  {
   "cell_type": "code",
   "execution_count": 6,
   "id": "590f8632-0a9f-4585-901c-ac7fbc224263",
   "metadata": {
    "tags": []
   },
   "outputs": [],
   "source": [
    "# z = gpd.read_file('/projects/shared-buckets/nathanmthomas/boreal_tiles_v003.gpkg')\n",
    "# z.info()"
   ]
  },
  {
   "cell_type": "code",
   "execution_count": 7,
   "id": "cf183d16",
   "metadata": {
    "tags": []
   },
   "outputs": [
    {
     "data": {
      "text/plain": [
       "['aoi-book-chapter-usa-conus-square_with_id']"
      ]
     },
     "execution_count": 7,
     "metadata": {},
     "output_type": "execute_result"
    }
   ],
   "source": [
    "import fiona\n",
    "fiona.listlayers(NEW_INDEX_FN)"
   ]
  },
  {
   "cell_type": "code",
   "execution_count": 7,
   "id": "a1bd0a37",
   "metadata": {
    "tags": []
   },
   "outputs": [],
   "source": [
    "MS_DATA_TYPE = 'HLS'#'LS8' # 'HLS'\n",
    "if MS_DATA_TYPE == 'LS8':\n",
    "    SAT_API = 'https://landsatlook.usgs.gov/sat-api'\n",
    "else:\n",
    "    SAT_API = 'https://cmr.earthdata.nasa.gov/stac/LPCLOUD'   "
   ]
  },
  {
   "cell_type": "code",
   "execution_count": 8,
   "id": "db4b131c-0e2e-4c99-adb2-0e13d05e7cbd",
   "metadata": {
    "tags": []
   },
   "outputs": [],
   "source": [
    "#list(range(1,36+1))"
   ]
  },
  {
   "cell_type": "code",
   "execution_count": 9,
   "id": "d90677d8",
   "metadata": {
    "tags": []
   },
   "outputs": [],
   "source": [
    "import fiona\n",
    "from CovariateUtils import *"
   ]
  },
  {
   "cell_type": "code",
   "execution_count": 10,
   "id": "bb492170",
   "metadata": {
    "tags": []
   },
   "outputs": [],
   "source": [
    "nowtime = pd.Timestamp.now().strftime('%Y%m%d_%H')"
   ]
  },
  {
   "cell_type": "code",
   "execution_count": 40,
   "id": "13d6e32e-0855-407c-858e-a94e6ec94369",
   "metadata": {
    "tags": []
   },
   "outputs": [
    {
     "data": {
      "text/plain": [
       "36"
      ]
     },
     "execution_count": 43,
     "metadata": {},
     "output_type": "execute_result"
    }
   ],
   "source": [
    "DPS_INPUT_TILE_NUM_LIST = aoi_tiles_gdf.tile_num.to_list()\n",
    "\n",
    "#DPS_INPUT_TILE_NUM_LIST = [3245]\n",
    "\n",
    "len(DPS_INPUT_TILE_NUM_LIST)"
   ]
  },
  {
   "cell_type": "code",
   "execution_count": 48,
   "id": "cd970aaa-3127-4e7f-baac-31d44c5c3ed3",
   "metadata": {},
   "outputs": [
    {
     "data": {
      "text/plain": [
       "'mc50_06-01_06-30_2019_2019'"
      ]
     },
     "execution_count": 48,
     "metadata": {},
     "output_type": "execute_result"
    }
   ],
   "source": [
    "MAX_CLOUDS = 50\n",
    "SEASON_START = '06-01'\n",
    "SEASON_STOP = '06-30'\n",
    "YEAR_START = '2019'\n",
    "YEAR_STOP = '2019'\n",
    "\n",
    "RUN_NAME_IDENTIFIER = f'mc{MAX_CLOUDS}_{SEASON_START}_{SEASON_STOP}_{YEAR_START}_{YEAR_STOP}'\n",
    "RUN_NAME_IDENTIFIER"
   ]
  },
  {
   "cell_type": "code",
   "execution_count": 49,
   "id": "ee0aac12-1595-4beb-961e-1c611304d5a1",
   "metadata": {
    "tags": []
   },
   "outputs": [],
   "source": [
    "# MAAP algorithm version name\n",
    "MAAP_VERSION = \"HLS_stack_2023_v1\""
   ]
  },
  {
   "cell_type": "code",
   "execution_count": 51,
   "id": "0bcd288f-cc07-4230-95d4-845b1bdc2065",
   "metadata": {
    "tags": []
   },
   "outputs": [
    {
     "data": {
      "text/plain": [
       "'api.maap-project.org'"
      ]
     },
     "execution_count": 51,
     "metadata": {},
     "output_type": "execute_result"
    }
   ],
   "source": [
    "from maap.maap import MAAP\n",
    "maap = MAAP()\n",
    "maap._MAAP_HOST"
   ]
  },
  {
   "cell_type": "code",
   "execution_count": null,
   "id": "29d51ffd-ca11-4628-94cf-87fd7517a111",
   "metadata": {
    "tags": []
   },
   "outputs": [],
   "source": [
    "%%time\n",
    "submit_results_df_list = []\n",
    "len_input_list = len(DPS_INPUT_TILE_NUM_LIST)\n",
    "print(f\"# of input tiles for DPS: {len_input_list}\")\n",
    "\n",
    "for YEAR in [2019,2020,2021,2022]:\n",
    "    \n",
    "    YEAR_START = str(YEAR)\n",
    "    YEAR_STOP = str(YEAR)\n",
    "    \n",
    "    for MONTH in [6,7,8]:\n",
    "\n",
    "        if MONTH == 6 or MONTH == 9:\n",
    "            DAY_MAX = 30\n",
    "        else:\n",
    "            DAY_MAX = 31\n",
    "\n",
    "        SEASON_START = f'0{MONTH}-01'\n",
    "        SEASON_STOP = f'0{MONTH}-{DAY_MAX}'\n",
    "        MAX_CLOUDS = 50\n",
    "        \n",
    "        RUN_NAME_IDENTIFIER = f'mc{MAX_CLOUDS}_{SEASON_START}_{SEASON_STOP}_{YEAR}_{YEAR}'\n",
    "\n",
    "        for i, INPUT_TILE_NUM in enumerate(DPS_INPUT_TILE_NUM_LIST):\n",
    "\n",
    "            DPS_num = i+1\n",
    "            IDENTIFIER = RUN_NAME_IDENTIFIER \n",
    "            ALGO_ID = \"do_HLS_stack_3-1-2\"\n",
    "            USER = 'montesano'\n",
    "            WORKER_TYPE = 'maap-dps-worker-32gb'\n",
    "\n",
    "            in_param_dict = {\n",
    "                                 #'in_tile_fn': 'https://maap-ops-workspace.s3.amazonaws.com/shared/nathanmthomas/boreal_tiles_v003.gpkg',\n",
    "                'in_tile_fn': 'https://maap-ops-workspace.s3.amazonaws.com/shared/montesano/hls_book_chapter/aoi-book-chapter-usa-conus-square_with_id.gpkg',\n",
    "                                 'in_tile_num': INPUT_TILE_NUM,\n",
    "                                 #'in_tile_layer': 'boreal_tiles_v003',\n",
    "                 'in_tile_layer': 'aoi-book-chapter-usa-conus-square_with_id',\n",
    "                                 'sat_api': 'https://cmr.earthdata.nasa.gov/stac/LPCLOUD',\n",
    "                                #'sat_api': 'https://landsatlook.usgs.gov/sat-api',\n",
    "                                 'tile_buffer_m': 0,\n",
    "                                 'start_year': YEAR_START,\n",
    "                                 'end_year': YEAR_STOP,\n",
    "                                 'start_month_day': SEASON_START,\n",
    "                                 'end_month_day': SEASON_STOP,\n",
    "                                 'max_cloud': MAX_CLOUDS,\n",
    "                                 'composite_type': 'HLS',\n",
    "                                 'shape': 3000,\n",
    "                                 'hls_product': 'H30'\n",
    "                }\n",
    "\n",
    "            submit_result = maap.submitJob(\n",
    "                                            identifier=IDENTIFIER,\n",
    "                                            algo_id=ALGO_ID,\n",
    "                                            version=MAAP_VERSION, # \"HLS_stack_2023_v1\"\n",
    "                                            username=USER,\n",
    "                                            queue=WORKER_TYPE,\n",
    "                                            # Args that match yaml\n",
    "                                            **in_param_dict\n",
    "                )\n",
    "\n",
    "            # Build a dataframe of submission details\n",
    "            submit_result_df = pd.DataFrame( \n",
    "                {\n",
    "                        'dps_num':[DPS_num],\n",
    "                        'tile_num':[INPUT_TILE_NUM],\n",
    "                        'submit_time':[datetime.datetime.now()],\n",
    "                        'dbs_job_hour': [datetime.datetime.now().hour],\n",
    "                        'algo_id': [ALGO_ID],\n",
    "                        'user': [USER],\n",
    "                        'worker_type': [WORKER_TYPE],\n",
    "                        'job_id': [submit_result.id],\n",
    "                        'submit_status': [submit_result.retrieve_status()],\n",
    "                } \n",
    "            )\n",
    "            \n",
    "            submit_result_df['run_name'] = RUN_NAME_IDENTIFIER\n",
    "            \n",
    "            # Append to a list of data frames of submission results\n",
    "            submit_results_df_list.append(submit_result_df)\n",
    "\n",
    "            if DPS_num in [1, 5, 10, 100, 500, 1000, 1500, 2000, 3000, 5000, 7000, 9000, 11000, 13000, 15000, 17000, 19000, 21000, 24000, len_input_list]:\n",
    "                print(f\"DPS run #: {DPS_num}\\t| tile num: {INPUT_TILE_NUM}\\t| submit status: {submit_result.retrieve_status()}\\t| job id: {submit_result.id}\") \n",
    "\n",
    "        # Build a final submission results df and save\n",
    "        submit_results_df = pd.concat(submit_results_df_list)\n",
    "        submit_results_df['run_name'] = RUN_NAME_IDENTIFIER\n",
    "        nowtime = pd.Timestamp.now().strftime('%Y%m%d%H%M')\n",
    "        print(f\"Current time:\\t{nowtime}\")\n",
    "        submit_results_df.to_csv(f'/projects/my-public-bucket/dps_submission_results/DPS_{IDENTIFIER}_submission_results_{len_input_list}_{nowtime}.csv')\n",
    "        #print(submit_results_df)"
   ]
  },
  {
   "cell_type": "markdown",
   "id": "442f7b3a-4935-42af-aa03-822aeac64ab2",
   "metadata": {},
   "source": [
    "After almost any DPS job, you have to assess what succeeded and failed. This involves:\n",
    "1. building a table of job status based on job ids captured in the job_results_df from the DPS run chunk (this takes 40 mins for ~47k jobs) --> this tells you how many jobs failed\n",
    "2. merging the job status table with the job results df --> this tells you which specific granules (or tile nums) failed\n",
    "3. building another input list of granules for a follow-up DPS\n",
    "## Assess DPS results\n",
    "Build a table of job status based on job id - how many jobs failed?"
   ]
  },
  {
   "cell_type": "markdown",
   "id": "f8a2e225-c0f3-4c9d-86eb-51c2c30cd6cb",
   "metadata": {},
   "source": [
    "#### Update the dict of DPS runs to monitor success and fails"
   ]
  },
  {
   "cell_type": "code",
   "execution_count": 4,
   "id": "60e7fefc-094e-4c22-a710-ca6c346ec575",
   "metadata": {
    "tags": []
   },
   "outputs": [
    {
     "data": {
      "text/plain": [
       "['/projects/my-public-bucket/dps_submission_results/DPS_mc50_08-01_08-31_2022_2022_submission_results_36_202307200128.csv',\n",
       " '/projects/my-public-bucket/dps_submission_results/DPS_mc50_07-01_07-31_2022_2022_submission_results_36_202307200125.csv',\n",
       " '/projects/my-public-bucket/dps_submission_results/DPS_mc50_06-01_06-30_2022_2022_submission_results_36_202307200122.csv',\n",
       " '/projects/my-public-bucket/dps_submission_results/DPS_mc50_08-01_08-31_2021_2021_submission_results_36_202307200118.csv',\n",
       " '/projects/my-public-bucket/dps_submission_results/DPS_mc50_07-01_07-31_2021_2021_submission_results_36_202307200115.csv',\n",
       " '/projects/my-public-bucket/dps_submission_results/DPS_mc50_06-01_06-30_2021_2021_submission_results_36_202307200112.csv',\n",
       " '/projects/my-public-bucket/dps_submission_results/DPS_mc50_08-01_08-31_2020_2020_submission_results_36_202307200109.csv',\n",
       " '/projects/my-public-bucket/dps_submission_results/DPS_mc50_07-01_07-31_2020_2020_submission_results_36_202307200106.csv',\n",
       " '/projects/my-public-bucket/dps_submission_results/DPS_mc50_06-01_06-30_2020_2020_submission_results_36_202307200103.csv',\n",
       " '/projects/my-public-bucket/dps_submission_results/DPS_mc50_08-01_08-31_2019_2019_submission_results_36_202307200100.csv',\n",
       " '/projects/my-public-bucket/dps_submission_results/DPS_mc50_07-01_07-31_2019_2019_submission_results_36_202307200057.csv',\n",
       " '/projects/my-public-bucket/dps_submission_results/DPS_mc50_06-01_06-30_2019_2019_submission_results_36_202307200054.csv']"
      ]
     },
     "execution_count": 4,
     "metadata": {},
     "output_type": "execute_result"
    }
   ],
   "source": [
    "LIST_SUBMISSIONS = sorted(glob.glob(f'/projects/my-public-bucket/dps_submission_results/DPS_*_submission_results_36*.csv'),key=ExtractUtils.func, reverse=True)\n",
    "LIST_SUBMISSIONS"
   ]
  },
  {
   "cell_type": "code",
   "execution_count": 5,
   "id": "employed-injury",
   "metadata": {
    "tags": []
   },
   "outputs": [
    {
     "name": "stdout",
     "output_type": "stream",
     "text": [
      "DPS alg:\t\tmc50_08-01_08-31_2022_2022\n",
      "DPS launch time:\t202307200128\n",
      "Count total jobs:\t432\n",
      "Count pending jobs:\t131\n",
      "Count running jobs:\t3\n",
      "Count succeeded jobs:\t291\n",
      "Count failed jobs:\t7\n",
      "% of failed jobs:\t2.35\n",
      "\n",
      "CPU times: user 7.67 s, sys: 349 ms, total: 8.02 s\n",
      "Wall time: 13.2 s\n"
     ]
    }
   ],
   "source": [
    "%%time\n",
    "#for DPS_DATETIME in [nowtime]:\n",
    "fails_list = []\n",
    "success_list = []\n",
    "#for DICT_RUN_NAME, DPS_DATETIME in sorted(DICT_RUN_NAME_TIME.items(), reverse=True):\n",
    "for fn in LIST_SUBMISSIONS[0:1]:\n",
    "    #if DPS_DATETIME in fn and not 'job_status' in fn:\n",
    "    DPS_alg_id = os.path.basename(fn.split('_submission_results_')[0].replace('DPS_',''))\n",
    "    thentime = fn.split('_')[-1].replace('.csv','')\n",
    "    print(f'DPS alg:\\t\\t{DPS_alg_id}')\n",
    "    #print(f'DPS run name:\\t\\t{DICT_RUN_NAME}')\n",
    "    print(f'DPS launch time:\\t{thentime}')\n",
    "    z = ExtractUtils.BUILD_TABLE_JOBSTATUS(pd.read_csv(fn))\n",
    "    ## Save job status table\n",
    "    #z.to_csv(f'/projects/my-public-bucket/dps_submission_results/DPS_{IDENTIFIER}_submission_results_job_status_{len(z)}_{thentime}.csv')\n",
    "\n",
    "    # Get current fails df and append to list\n",
    "    #z['run_type'] = DICT_RUN_NAME\n",
    "    fails_list.append(z[ (z['status'] != 'Succeeded') & (z['status'] != 'Running') ] )\n",
    "    success_list.append(z[ (z['status'] == 'Succeeded') ] )\n",
    "            \n",
    "df_all_fails = pd.concat(fails_list)\n",
    "df_all_success = pd.concat(success_list)"
   ]
  },
  {
   "cell_type": "code",
   "execution_count": 8,
   "id": "2f28d420-2b41-4648-a03d-6f74cd4a2fd6",
   "metadata": {
    "tags": []
   },
   "outputs": [
    {
     "name": "stdout",
     "output_type": "stream",
     "text": [
      "Collecting cogeo_mosaic\n",
      "  Using cached cogeo_mosaic-6.2.0-py3-none-any.whl (38 kB)\n",
      "Requirement already satisfied: pydantic~=1.0 in /opt/conda/lib/python3.10/site-packages (from cogeo_mosaic) (1.10.11)\n",
      "Collecting supermorecado\n",
      "  Using cached supermorecado-0.1.1-py3-none-any.whl (14 kB)\n",
      "Requirement already satisfied: shapely<3.0,>=2.0 in /opt/conda/lib/python3.10/site-packages (from cogeo_mosaic) (2.0.1)\n",
      "Requirement already satisfied: httpx in /opt/conda/lib/python3.10/site-packages (from cogeo_mosaic) (0.24.1)\n",
      "Collecting rio-tiler<6.0,>=5.0\n",
      "  Using cached rio_tiler-5.0.3-py3-none-any.whl (210 kB)\n",
      "Requirement already satisfied: attrs in /opt/conda/lib/python3.10/site-packages (from cogeo_mosaic) (23.1.0)\n",
      "Collecting morecantile<5.0,>=4.1\n",
      "  Using cached morecantile-4.3.0-py3-none-any.whl (36 kB)\n",
      "Requirement already satisfied: cachetools in /opt/conda/lib/python3.10/site-packages (from cogeo_mosaic) (5.3.1)\n",
      "Requirement already satisfied: rasterio in /opt/conda/lib/python3.10/site-packages (from cogeo_mosaic) (1.3.6)\n",
      "Requirement already satisfied: pyproj~=3.1 in /opt/conda/lib/python3.10/site-packages (from morecantile<5.0,>=4.1->cogeo_mosaic) (3.5.0)\n",
      "Requirement already satisfied: typing-extensions>=4.2.0 in /opt/conda/lib/python3.10/site-packages (from pydantic~=1.0->cogeo_mosaic) (4.7.1)\n",
      "Requirement already satisfied: numexpr in /opt/conda/lib/python3.10/site-packages (from rio-tiler<6.0,>=5.0->cogeo_mosaic) (2.8.4)\n",
      "Requirement already satisfied: color-operations in /opt/conda/lib/python3.10/site-packages (from rio-tiler<6.0,>=5.0->cogeo_mosaic) (0.1.1)\n",
      "Requirement already satisfied: pystac>=0.5.4 in /opt/conda/lib/python3.10/site-packages (from rio-tiler<6.0,>=5.0->cogeo_mosaic) (1.8.2)\n",
      "Requirement already satisfied: numpy in /opt/conda/lib/python3.10/site-packages (from rio-tiler<6.0,>=5.0->cogeo_mosaic) (1.25.1)\n",
      "Requirement already satisfied: affine in /opt/conda/lib/python3.10/site-packages (from rasterio->cogeo_mosaic) (2.4.0)\n",
      "Requirement already satisfied: setuptools in /opt/conda/lib/python3.10/site-packages (from rasterio->cogeo_mosaic) (65.5.0)\n",
      "Requirement already satisfied: certifi in /opt/conda/lib/python3.10/site-packages (from rasterio->cogeo_mosaic) (2023.5.7)\n",
      "Requirement already satisfied: cligj>=0.5 in /opt/conda/lib/python3.10/site-packages (from rasterio->cogeo_mosaic) (0.7.2)\n",
      "Requirement already satisfied: snuggs>=1.4.1 in /opt/conda/lib/python3.10/site-packages (from rasterio->cogeo_mosaic) (1.4.7)\n",
      "Requirement already satisfied: click-plugins in /opt/conda/lib/python3.10/site-packages (from rasterio->cogeo_mosaic) (1.1.1)\n",
      "Requirement already satisfied: click>=4.0 in /opt/conda/lib/python3.10/site-packages (from rasterio->cogeo_mosaic) (8.1.6)\n",
      "Requirement already satisfied: httpcore<0.18.0,>=0.15.0 in /opt/conda/lib/python3.10/site-packages (from httpx->cogeo_mosaic) (0.17.3)\n",
      "Requirement already satisfied: sniffio in /opt/conda/lib/python3.10/site-packages (from httpx->cogeo_mosaic) (1.3.0)\n",
      "Requirement already satisfied: idna in /opt/conda/lib/python3.10/site-packages (from httpx->cogeo_mosaic) (3.4)\n",
      "Requirement already satisfied: h11<0.15,>=0.13 in /opt/conda/lib/python3.10/site-packages (from httpcore<0.18.0,>=0.15.0->httpx->cogeo_mosaic) (0.14.0)\n",
      "Requirement already satisfied: anyio<5.0,>=3.0 in /opt/conda/lib/python3.10/site-packages (from httpcore<0.18.0,>=0.15.0->httpx->cogeo_mosaic) (3.7.1)\n",
      "Requirement already satisfied: python-dateutil>=2.7.0 in /opt/conda/lib/python3.10/site-packages (from pystac>=0.5.4->rio-tiler<6.0,>=5.0->cogeo_mosaic) (2.8.2)\n",
      "Requirement already satisfied: pyparsing>=2.1.6 in /opt/conda/lib/python3.10/site-packages (from snuggs>=1.4.1->rasterio->cogeo_mosaic) (3.1.0)\n",
      "Requirement already satisfied: exceptiongroup in /opt/conda/lib/python3.10/site-packages (from anyio<5.0,>=3.0->httpcore<0.18.0,>=0.15.0->httpx->cogeo_mosaic) (1.1.2)\n",
      "Requirement already satisfied: six>=1.5 in /opt/conda/lib/python3.10/site-packages (from python-dateutil>=2.7.0->pystac>=0.5.4->rio-tiler<6.0,>=5.0->cogeo_mosaic) (1.16.0)\n",
      "Installing collected packages: morecantile, supermorecado, rio-tiler, cogeo_mosaic\n",
      "  Attempting uninstall: morecantile\n",
      "    Found existing installation: morecantile 3.4.0\n",
      "    Uninstalling morecantile-3.4.0:\n",
      "      Successfully uninstalled morecantile-3.4.0\n",
      "  Attempting uninstall: rio-tiler\n",
      "    Found existing installation: rio-tiler 4.1.11\n",
      "    Uninstalling rio-tiler-4.1.11:\n",
      "      Successfully uninstalled rio-tiler-4.1.11\n",
      "\u001b[31mERROR: pip's dependency resolver does not currently take into account all the packages that are installed. This behaviour is the source of the following dependency conflicts.\n",
      "rio-cogeo 3.5.1 requires morecantile<4.0,>=3.1, but you have morecantile 4.3.0 which is incompatible.\u001b[0m\u001b[31m\n",
      "\u001b[0mSuccessfully installed cogeo_mosaic-6.2.0 morecantile-4.3.0 rio-tiler-5.0.3 supermorecado-0.1.1\n",
      "\u001b[33mWARNING: Running pip as the 'root' user can result in broken permissions and conflicting behaviour with the system package manager. It is recommended to use a virtual environment instead: https://pip.pypa.io/warnings/venv\u001b[0m\u001b[33m\n",
      "\u001b[0m"
     ]
    }
   ],
   "source": [
    "!pip install cogeo_mosaic\n",
    "import cogeo_mosaic"
   ]
  },
  {
   "cell_type": "code",
   "execution_count": 9,
   "id": "4b2fedb4-1f93-47a2-9b66-cc5ede36f2b0",
   "metadata": {
    "tags": []
   },
   "outputs": [
    {
     "data": {
      "text/plain": [
       "'6.2.0'"
      ]
     },
     "execution_count": 9,
     "metadata": {},
     "output_type": "execute_result"
    }
   ],
   "source": [
    "cogeo_mosaic.__version__"
   ]
  },
  {
   "cell_type": "code",
   "execution_count": 10,
   "id": "ba6a859f-9e31-4b10-9197-8a72fa536f23",
   "metadata": {
    "tags": []
   },
   "outputs": [
    {
     "name": "stdout",
     "output_type": "stream",
     "text": [
      "NASA MAAP\n",
      "\n",
      "Building a list of tiles:\n",
      "MAAP version:\t\tHLS_stack_2023_v1\n",
      "Type:\t\tHLS\n",
      "Year:\t\t2023\n",
      "Month:\t\t['07']\n",
      "Days:\t\t1-31\n",
      "\n",
      "Output dir:  /projects/my-public-bucket/DPS_tile_lists/HLS/HLS_H30_JC_AOI/HLS_stack_2023_v1\n",
      "                                             s3_path  ...                             file\n",
      "0  s3://maap-ops-workspace/montesano/dps_output/d...  ...  HLS_3_06-01_06-30_2019_2019.tif\n",
      "1  s3://maap-ops-workspace/montesano/dps_output/d...  ...  HLS_1_06-01_06-30_2019_2019.tif\n",
      "2  s3://maap-ops-workspace/montesano/dps_output/d...  ...  HLS_2_06-01_06-30_2019_2019.tif\n",
      "3  s3://maap-ops-workspace/montesano/dps_output/d...  ...  HLS_4_06-01_06-30_2019_2019.tif\n",
      "4  s3://maap-ops-workspace/montesano/dps_output/d...  ...  HLS_5_06-01_06-30_2019_2019.tif\n",
      "\n",
      "[5 rows x 3 columns]\n",
      "/projects/code/icesat2_boreal/lib/build_tindex_master.py:56: SettingWithCopyWarning: \n",
      "A value is trying to be set on a copy of a slice from a DataFrame.\n",
      "Try using .loc[row_indexer,col_indexer] = value instead\n",
      "\n",
      "See the caveats in the documentation: https://pandas.pydata.org/pandas-docs/stable/user_guide/indexing.html#returning-a-view-versus-a-copy\n",
      "  dropped.loc[:,'status'] = 'dropped'\n",
      "/projects/code/icesat2_boreal/lib/build_tindex_master.py:59: SettingWithCopyWarning: \n",
      "A value is trying to be set on a copy of a slice from a DataFrame.\n",
      "Try using .loc[row_indexer,col_indexer] = value instead\n",
      "\n",
      "See the caveats in the documentation: https://pandas.pydata.org/pandas-docs/stable/user_guide/indexing.html#returning-a-view-versus-a-copy\n",
      "  retained.loc[:,'status'] = 'retained'\n",
      "/projects/code/icesat2_boreal/lib/build_tindex_master.py:69: SettingWithCopyWarning: \n",
      "A value is trying to be set on a copy of a slice from a DataFrame.\n",
      "Try using .loc[row_indexer,col_indexer] = value instead\n",
      "\n",
      "See the caveats in the documentation: https://pandas.pydata.org/pandas-docs/stable/user_guide/indexing.html#returning-a-view-versus-a-copy\n",
      "  df['tile_num'] = df['tile_num'].astype(str).astype(int)\n",
      "# of duplicate tiles: 246\n",
      "Final # of tiles: 36\n",
      "df shape :                                                s3_path  ... tile_num\n",
      "281  s3://maap-ops-workspace/montesano/dps_output/d...  ...        1\n",
      "280  s3://maap-ops-workspace/montesano/dps_output/d...  ...       36\n",
      "279  s3://maap-ops-workspace/montesano/dps_output/d...  ...       35\n",
      "278  s3://maap-ops-workspace/montesano/dps_output/d...  ...       34\n",
      "277  s3://maap-ops-workspace/montesano/dps_output/d...  ...       31\n",
      "\n",
      "[5 rows x 4 columns]\n",
      "Writing duplicates csv: /projects/my-public-bucket/DPS_tile_lists/HLS/HLS_H30_JC_AOI/HLS_stack_2023_v1/HLS_tindex_master.csv\n",
      "Writing tindex master csv: /projects/my-public-bucket/DPS_tile_lists/HLS/HLS_H30_JC_AOI/HLS_stack_2023_v1/HLS_tindex_master.csv\n",
      "Building tindex master json and mosaic json...\n",
      "/projects/code/icesat2_boreal/lib/ExtractUtils.py:529: FutureWarning: The geopandas.dataset module is deprecated and will be removed in GeoPandas 1.0. You can get the original 'naturalearth_lowres' data from https://www.naturalearthdata.com/downloads/110m-cultural-vectors/.\n",
      "  world = geopandas.read_file(geopandas.datasets.get_path(\"naturalearth_lowres\") )\n",
      "Building /projects/my-public-bucket/DPS_tile_lists/HLS/HLS_H30_JC_AOI/HLS_stack_2023_v1/HLS_tindex_master_mosaic.json\n",
      "Writing MS composite parameters table...\n",
      "Wrote MS comp HLS params table: /projects/my-public-bucket/DPS_tile_lists/HLS/HLS_H30_JC_AOI/HLS_stack_2023_v1/HLS_input_params.csv\n",
      "\n",
      "real\t0m19.510s\n",
      "user\t0m6.840s\n",
      "sys\t0m3.007s\n"
     ]
    }
   ],
   "source": [
    "MS_COMP_NAME = 'HLS_H30_JC_AOI' #'c2020' #'c2020_fix_additional_irregulars'\n",
    "MAAP_VERSION = 'HLS_stack_2023_v1' #\"HLS_stack_2022_v2\"\n",
    "\n",
    "DPS_MONTH_LIST = '07'\n",
    "DPS_DAY_MIN = 1\n",
    "OUTDIR = f'/projects/my-public-bucket/DPS_tile_lists/HLS/{MS_COMP_NAME}/{MAAP_VERSION}'\n",
    "!mkdir -p $OUTDIR\n",
    "!time python /projects/code/icesat2_boreal/lib/build_tindex_master.py --RETURN_DUPS --user 'montesano' --maap_version $MAAP_VERSION -alg_name 'do_HLS_stack_3-1-2' -t 'HLS' -y 2023 --dps_month_list $DPS_MONTH_LIST -d_min $DPS_DAY_MIN --outdir $OUTDIR\n",
    "#!python /projects/Developer/icesat2_boreal/lib/build_tindex_master.py -h"
   ]
  },
  {
   "cell_type": "code",
   "execution_count": null,
   "id": "564aa3f6-806d-413b-94dd-bf5abd00e91c",
   "metadata": {},
   "outputs": [],
   "source": []
  }
 ],
 "metadata": {
  "kernelspec": {
   "display_name": "Python 3 (ipykernel)",
   "language": "python",
   "name": "python3"
  },
  "language_info": {
   "codemirror_mode": {
    "name": "ipython",
    "version": 3
   },
   "file_extension": ".py",
   "mimetype": "text/x-python",
   "name": "python",
   "nbconvert_exporter": "python",
   "pygments_lexer": "ipython3",
   "version": "3.10.8"
  }
 },
 "nbformat": 4,
 "nbformat_minor": 5
}
